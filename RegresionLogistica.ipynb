{
 "cells": [
  {
   "cell_type": "code",
   "execution_count": 14,
   "metadata": {},
   "outputs": [
    {
     "name": "stdout",
     "output_type": "stream",
     "text": [
      "\n",
      "a0 = [1.75732916]   a1 = 3.925437432202608   a2 = 3.725458188790648\n",
      "\n",
      "Datos: x1 =  34.6237  x2 =  78.0247  Predicción =  [0.]\n",
      "Resultado =  clase 0, Reprobado\n",
      "\n",
      "Datos: x1 =  60.1826  x2 =  86.3086  Predicción =  [1.]\n",
      "Resultado =  clase 1, Aprobado\n",
      "\n",
      "Datos: x1 =  82.2267  x2 =  42.7199  Predicción =  [1.]\n",
      "Resultado =  clase 1, Aprobado\n"
     ]
    }
   ],
   "source": [
    "import pandas as pd\n",
    "import numpy as np\n",
    "from sklearn import linear_model\n",
    "\n",
    "# -------- ENTRENAMIENTO --------\n",
    "\n",
    "# Obtencion de datos crudos\n",
    "data = pd.read_csv(\"dataset_RegresionLogistica1.csv\")\n",
    "n = np.size(data, 1)\n",
    "array = data.values\n",
    "x = array[:, 0:n-1]\n",
    "y = array[:, n-1]\n",
    "\n",
    "# Estandarización\n",
    "media = x.mean(axis=0)\n",
    "sigma = x.std(axis=0, ddof=1)\n",
    "x = (x - media) / sigma\n",
    "\n",
    "# Regresion Logistica\n",
    "model = linear_model.LogisticRegression(penalty='none', solver='sag')\n",
    "model.fit(x, y)\n",
    "print('\\na0 =', model.intercept_, '  a1 =', model.coef_[0, 0], '  a2 =', model.coef_[0, 1])\n",
    "\n",
    "# -------- PRUEBAS --------\n",
    "# Datos de prueba\n",
    "\n",
    "datosPrueba = [ [34.6237, 78.0247],\n",
    "                [60.1826, 86.3086],\n",
    "                [82.2267, 42.7199]\n",
    "            ]; \n",
    "i = 0\n",
    "while i<3:\n",
    "    datoPrueba = [datosPrueba[i]]\n",
    "    datoPrueba = (datoPrueba - media) / sigma\n",
    "    clasificacion = model.predict(datoPrueba)\n",
    "    print(\"\\nDatos: x1 = \", datosPrueba[i][0], \" x2 = \", datosPrueba[i][1], \" Predicción = \", clasificacion)\n",
    "    print(\"Resultado = \", \"clase 1, Aprobado\" if clasificacion else \"clase 0, Reprobado\")\n",
    "    i += 1\n"
   ]
  }
 ],
 "metadata": {
  "kernelspec": {
   "display_name": "Python 3.10.2 64-bit",
   "language": "python",
   "name": "python3"
  },
  "language_info": {
   "codemirror_mode": {
    "name": "ipython",
    "version": 3
   },
   "file_extension": ".py",
   "mimetype": "text/x-python",
   "name": "python",
   "nbconvert_exporter": "python",
   "pygments_lexer": "ipython3",
   "version": "3.10.2"
  },
  "orig_nbformat": 4,
  "vscode": {
   "interpreter": {
    "hash": "a4089c162f9be3b77d1c644bfe729d02bb03d8ff8fb7e500653989a8c9c9202a"
   }
  }
 },
 "nbformat": 4,
 "nbformat_minor": 2
}
